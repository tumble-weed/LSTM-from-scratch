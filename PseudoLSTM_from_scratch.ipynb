{
  "nbformat": 4,
  "nbformat_minor": 0,
  "metadata": {
    "colab": {
      "name": "PseudoLSTM from scratch.ipynb",
      "version": "0.3.2",
      "provenance": [],
      "collapsed_sections": [],
      "include_colab_link": true
    },
    "kernelspec": {
      "name": "python3",
      "display_name": "Python 3"
    }
  },
  "cells": [
    {
      "cell_type": "markdown",
      "metadata": {
        "id": "view-in-github",
        "colab_type": "text"
      },
      "source": [
        "<a href=\"https://colab.research.google.com/github/tumble-weed/LSTM-from-scratch/blob/master/PseudoLSTM_from_scratch.ipynb\" target=\"_parent\"><img src=\"https://colab.research.google.com/assets/colab-badge.svg\" alt=\"Open In Colab\"/></a>"
      ]
    },
    {
      "cell_type": "code",
      "metadata": {
        "id": "qpTRHmdHl9nw",
        "colab_type": "code",
        "colab": {}
      },
      "source": [
        "import torch\n",
        "import numpy as np\n"
      ],
      "execution_count": 0,
      "outputs": []
    },
    {
      "cell_type": "code",
      "metadata": {
        "id": "n57B8gKEmD8w",
        "colab_type": "code",
        "colab": {}
      },
      "source": [
        "class PseudoLSTM(torch.nn.Module):\n",
        "    def __init__(self,state_size,input_size,state_squash_fn = torch.nn.functional.tanh):\n",
        "        torch.nn.Module.__init__(self)\n",
        "        self.state_size =state_size\n",
        "        self.input_size = input_size\n",
        "        self.state_squash_fn = state_squash_fn\n",
        "        \n",
        "        #-----------------------------------------------------------------------\n",
        "        # 'o' (Read) gate\n",
        "        self.W_x_o = torch.nn.Linear(input_size,state_size)\n",
        "        self.W_s_o = torch.nn.Linear(state_size,state_size,bias=False)\n",
        "\n",
        "        #-----------------------------------------------------------------------\n",
        "        # 'i' (Write) gate\n",
        "        self.W_x_i = torch.nn.Linear(input_size,state_size)\n",
        "        self.W_s_i = torch.nn.Linear(state_size,state_size,bias=False)\n",
        "\n",
        "        #-----------------------------------------------------------------------\n",
        "        # 'r' (Remember) gate\n",
        "        self.W_x_r = torch.nn.Linear(input_size,state_size)\n",
        "        self.W_s_r = torch.nn.Linear(state_size,state_size,bias=False)\n",
        "\n",
        "        #-----------------------------------------------------------------------\n",
        "        # candidate write\n",
        "        self.W_x_s = torch.nn.Linear(input_size,state_size)\n",
        "        self.W_s_s = torch.nn.Linear(state_size,state_size,bias=False)\n",
        "        \n",
        "        pass\n",
        "    def forward(self,x,s):\n",
        "        # x.shape  = n_time_steps, batch_size,input_size\n",
        "        outs = []\n",
        "        for x_t in x:\n",
        "            # gates\n",
        "            squashed_s = self.state_squash_fn(s)\n",
        "            o_t = self.W_x_o(x_t) + self.W_s_o(squashed_s)\n",
        "            r_t = self.W_x_r(x_t) + self.W_s_r(squashed_s)\n",
        "            i_t = self.W_x_i(x_t) + self.W_s_i(squashed_s)\n",
        "            \n",
        "            s_hat = self.W_x_s(x_t) + self.W_s_s(o_t*squashed_s)\n",
        "            s = s * r_t + s_hat * i_t\n",
        "            outs.append(s)\n",
        "        out = torch.stack(outs,0)\n",
        "        return out,s\n",
        "        "
      ],
      "execution_count": 0,
      "outputs": []
    },
    {
      "cell_type": "code",
      "metadata": {
        "id": "bXIMvo-krREo",
        "colab_type": "code",
        "outputId": "34dd6843-0dd3-4cf0-bc58-bbc930d87754",
        "colab": {
          "base_uri": "https://localhost:8080/",
          "height": 51
        }
      },
      "source": [
        "input_size,seq_len,batch_size = 10,7,32\n",
        "x = torch.zeros(seq_len,batch_size,input_size,)\n",
        "state_size = 50\n",
        "pseudo_lstm = PseudoLSTM(state_size,input_size,state_squash_fn = torch.nn.functional.tanh)\n",
        "outs, s = pseudo_lstm(x,s = torch.zeros(batch_size,state_size))"
      ],
      "execution_count": 0,
      "outputs": [
        {
          "output_type": "stream",
          "text": [
            "/usr/local/lib/python3.6/dist-packages/torch/nn/functional.py:1374: UserWarning: nn.functional.tanh is deprecated. Use torch.tanh instead.\n",
            "  warnings.warn(\"nn.functional.tanh is deprecated. Use torch.tanh instead.\")\n"
          ],
          "name": "stderr"
        }
      ]
    }
  ]
}