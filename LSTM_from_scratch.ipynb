{
  "nbformat": 4,
  "nbformat_minor": 0,
  "metadata": {
    "colab": {
      "name": "LSTM from scratch.ipynb",
      "version": "0.3.2",
      "provenance": [],
      "collapsed_sections": [],
      "include_colab_link": true
    },
    "kernelspec": {
      "name": "python3",
      "display_name": "Python 3"
    }
  },
  "cells": [
    {
      "cell_type": "markdown",
      "metadata": {
        "id": "view-in-github",
        "colab_type": "text"
      },
      "source": [
        "<a href=\"https://colab.research.google.com/github/tumble-weed/LSTM-from-scratch/blob/master/LSTM_from_scratch.ipynb\" target=\"_parent\"><img src=\"https://colab.research.google.com/assets/colab-badge.svg\" alt=\"Open In Colab\"/></a>"
      ]
    },
    {
      "cell_type": "code",
      "metadata": {
        "id": "nhCbEmV5sQ_W",
        "colab_type": "code",
        "colab": {}
      },
      "source": [
        "import numpy as np\n",
        "import torch"
      ],
      "execution_count": 0,
      "outputs": []
    },
    {
      "cell_type": "code",
      "metadata": {
        "id": "nB2NU7iZuRVZ",
        "colab_type": "code",
        "colab": {}
      },
      "source": [
        "seq_len,batch_size,feat_len = 5,32,100\n",
        "seq = np.random.random((seq_len,batch_size,feat_len))\n",
        "seq = torch.tensor(seq).float()"
      ],
      "execution_count": 0,
      "outputs": []
    },
    {
      "cell_type": "code",
      "metadata": {
        "id": "lPe4V3O4uSzi",
        "colab_type": "code",
        "colab": {}
      },
      "source": [
        "class LSTM(torch.nn.Module):\n",
        "    def __init__(self,input_len,state_len,squash_fn = torch.nn.functional.tanh):\n",
        "        torch.nn.Module.__init__(self)\n",
        "        self.input_len = input_len\n",
        "        self.state_len = state_len\n",
        "        self.squash_fn = squash_fn\n",
        "        \n",
        "        self.layers = {}\n",
        "        \n",
        "        self.layers['o gate from x'] = torch.nn.Linear(input_len,state_len)\n",
        "        self.layers['o gate from h'] = torch.nn.Linear(state_len,state_len,bias=False)\n",
        "        \n",
        "        self.layers['i gate from x'] = torch.nn.Linear(input_len,state_len)\n",
        "        self.layers['i gate from h'] = torch.nn.Linear(state_len,state_len,bias=False)\n",
        "        \n",
        "        self.layers['r gate from x'] = torch.nn.Linear(input_len,state_len)\n",
        "        self.layers['r gate from h'] = torch.nn.Linear(state_len,state_len,bias=False)\n",
        "        \n",
        "        self.layers['delta from x'] = torch.nn.Linear(input_len,state_len)\n",
        "        self.layers['delta from h'] = torch.nn.Linear(state_len,state_len,bias=False)\n",
        "        \n",
        "        pass\n",
        "    def forward(self,x,(h,c)):\n",
        "        for x_t in x:\n",
        "            i_t = self.layers['i gate from x'](x_t) + self.layers['i gate from h'](h)\n",
        "            i_t = torch.nn.sigmoid(i_t)\n",
        "            \n",
        "            o_t = self.layers['o gate from x'](x_t) + self.layers['o gate from h'](h)\n",
        "            o_t = torch.nn.sigmoid(o_t)\n",
        "            \n",
        "            r_t = self.layers['r gate from x'](x_t) + self.layers['r gate from h'](h)\n",
        "            r_t = torch.nn.sigmoid(r_t)\n",
        "            \n",
        "            c_hat = self.layers['delta gate from x'](x_t) + self.layers['delta gate from h'](h)\n",
        "            c_hat = self.squash_fn(c_hat)\n",
        "            \n",
        "            c = c*r_t + c_hat*i_t\n",
        "            \n",
        "            h = o_t * self.squash_fn(c)\n",
        "        pass"
      ],
      "execution_count": 0,
      "outputs": []
    },
    {
      "cell_type": "code",
      "metadata": {
        "id": "7cVh3tP3Ryf8",
        "colab_type": "code",
        "colab": {}
      },
      "source": [
        ""
      ],
      "execution_count": 0,
      "outputs": []
    }
  ]
}