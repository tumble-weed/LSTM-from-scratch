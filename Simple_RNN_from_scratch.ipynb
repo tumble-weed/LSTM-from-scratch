{
  "nbformat": 4,
  "nbformat_minor": 0,
  "metadata": {
    "colab": {
      "name": "Simple RNN from scratch.ipynb",
      "version": "0.3.2",
      "provenance": [],
      "include_colab_link": true
    },
    "kernelspec": {
      "name": "python3",
      "display_name": "Python 3"
    }
  },
  "cells": [
    {
      "cell_type": "markdown",
      "metadata": {
        "id": "view-in-github",
        "colab_type": "text"
      },
      "source": [
        "<a href=\"https://colab.research.google.com/github/tumble-weed/LSTM-from-scratch/blob/master/Simple_RNN_from_scratch.ipynb\" target=\"_parent\"><img src=\"https://colab.research.google.com/assets/colab-badge.svg\" alt=\"Open In Colab\"/></a>"
      ]
    },
    {
      "cell_type": "code",
      "metadata": {
        "id": "hsBRTL56tnR6",
        "colab_type": "code",
        "colab": {}
      },
      "source": [
        "import numpy as np\n",
        "import torch"
      ],
      "execution_count": 0,
      "outputs": []
    },
    {
      "cell_type": "code",
      "metadata": {
        "id": "wu6JOT5AtpJC",
        "colab_type": "code",
        "colab": {}
      },
      "source": [
        "seq_len,batch_size,feat_len = 5,32,100\n",
        "seq = np.random.random((seq_len,batch_size,feat_len))\n",
        "seq = torch.tensor(seq).float()"
      ],
      "execution_count": 0,
      "outputs": []
    },
    {
      "cell_type": "code",
      "metadata": {
        "id": "EPjAQvnNtrCl",
        "colab_type": "code",
        "colab": {}
      },
      "source": [
        "class SimpleRNN(torch.nn.Module):\n",
        "    '''\n",
        "    Assumes the output is the state\n",
        "    has just a single layer that deals with the state and input\n",
        "    '''\n",
        "    def __init__(self,input_len,output_len):\n",
        "        super(SimpleRNN,self).__init__()\n",
        "        \n",
        "        state_len = output_len\n",
        "        \n",
        "        self.input_len,self.output_len,self.state_len = input_len,output_len,state_len\n",
        "        self.fc_input = torch.nn.Linear(input_len,output_len)        \n",
        "        self.fc_state = torch.nn.Linear(state_len,output_len,bias=False)\n",
        "        \n",
        "        pass\n",
        "    \n",
        "    def forward(self,x,state):        \n",
        "        outs = []\n",
        "        for at_t in x:\n",
        "\n",
        "            out = self.fc_input(at_t) + self.fc_state(state)\n",
        "            out = torch.nn.functional.relu(out)\n",
        "            state = out\n",
        "            outs.append(out)\n",
        "        outs = torch.stack(outs,0)\n",
        "        return outs,state\n",
        "\n",
        "        "
      ],
      "execution_count": 0,
      "outputs": []
    },
    {
      "cell_type": "code",
      "metadata": {
        "id": "xRRW1tsetsiZ",
        "colab_type": "code",
        "colab": {}
      },
      "source": [
        "input_len,output_len = feat_len,9\n",
        "simple_rnn = SimpleRNN(input_len,output_len)\n",
        "hidden = torch.zeros((1,batch_size,output_len))\n",
        "out,state =simple_rnn(seq,hidden)"
      ],
      "execution_count": 0,
      "outputs": []
    },
    {
      "cell_type": "code",
      "metadata": {
        "id": "8DGmk03Tts7O",
        "colab_type": "code",
        "colab": {}
      },
      "source": [
        "out.shape,state.shape"
      ],
      "execution_count": 0,
      "outputs": []
    }
  ]
}